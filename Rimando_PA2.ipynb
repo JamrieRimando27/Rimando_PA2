{
 "cells": [
  {
   "cell_type": "markdown",
   "id": "c52b2e9a-58f3-4476-badf-19fb7ea0c3e1",
   "metadata": {},
   "source": [
    "# NORMALIZATION PROBLEM "
   ]
  },
  {
   "cell_type": "code",
   "execution_count": 5,
   "id": "2032a378-6232-4c78-becf-955f6c76a05a",
   "metadata": {},
   "outputs": [
    {
     "name": "stdout",
     "output_type": "stream",
     "text": [
      "Random X = \n",
      " [[0.82053733 0.77887772 0.51857879 0.5565555  0.81555634]\n",
      " [0.34499033 0.0241727  0.26398307 0.70970889 0.47025263]\n",
      " [0.70313796 0.26798383 0.45033211 0.32330574 0.73338424]\n",
      " [0.17786968 0.36931331 0.38219898 0.27693555 0.12160005]\n",
      " [0.91407336 0.27845827 0.73221701 0.80050689 0.678026  ]]\n",
      "\n",
      "Normalized X = \n",
      " [[ 1.28861441  1.12087289  0.07278481  0.22569723  1.26855855]\n",
      " [-0.62616543 -1.91793078 -0.95233943  0.84236605 -0.12179946]\n",
      " [ 0.81590834 -0.93623045 -0.20200901 -0.71347798  0.93769437]\n",
      " [-1.29907316 -0.52822949 -0.4763456  -0.90018654 -1.52564162]\n",
      " [ 1.66523525 -0.89405533  0.93299453  1.20796226  0.71479559]]\n"
     ]
    }
   ],
   "source": [
    "import numpy as np \n",
    "\n",
    "X = np.random.rand(5,5)\n",
    "print('Random X = \\n', X)\n",
    "\n",
    "X_mean = X.mean()\n",
    "X_std = X.std()\n",
    "X_normalized = (X - X_mean) / X_std\n",
    "\n",
    "np.save('X_normalized.npy', X_normalized)\n",
    "\n",
    "print('\\nNormalized X = \\n', X_normalized)"
   ]
  },
  {
   "cell_type": "markdown",
   "id": "aa00e5c3-a0d1-4dbb-9bda-33ecabd0fade",
   "metadata": {},
   "source": [
    "# DIVISIBLE BY 3 PROBLEM:"
   ]
  },
  {
   "cell_type": "code",
   "execution_count": 3,
   "id": "0d4f301d-27dd-4ad0-b3d0-97e0fa1c5a58",
   "metadata": {},
   "outputs": [
    {
     "name": "stdout",
     "output_type": "stream",
     "text": [
      "[   9   36   81  144  225  324  441  576  729  900 1089 1296 1521 1764\n",
      " 2025 2304 2601 2916 3249 3600 3969 4356 4761 5184 5625 6084 6561 7056\n",
      " 7569 8100 8649 9216 9801]\n"
     ]
    }
   ],
   "source": [
    "squares = np.arange(1,101)**2\n",
    "A = squares.reshape(10,10)\n",
    "\n",
    "div_by_3 = A[A%3 == 0]\n",
    "\n",
    "np.save('div_by_3.npy', div_by_3)\n",
    "\n",
    "print(div_by_3)"
   ]
  }
 ],
 "metadata": {
  "kernelspec": {
   "display_name": "Python 3 (ipykernel)",
   "language": "python",
   "name": "python3"
  },
  "language_info": {
   "codemirror_mode": {
    "name": "ipython",
    "version": 3
   },
   "file_extension": ".py",
   "mimetype": "text/x-python",
   "name": "python",
   "nbconvert_exporter": "python",
   "pygments_lexer": "ipython3",
   "version": "3.13.5"
  }
 },
 "nbformat": 4,
 "nbformat_minor": 5
}
