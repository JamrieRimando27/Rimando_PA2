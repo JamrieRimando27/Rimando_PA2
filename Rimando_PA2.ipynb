{
 "cells": [
  {
   "cell_type": "markdown",
   "id": "c52b2e9a-58f3-4476-badf-19fb7ea0c3e1",
   "metadata": {},
   "source": [
    "# NORMALIZATION PROBLEM "
   ]
  },
  {
   "cell_type": "code",
   "execution_count": 4,
   "id": "2032a378-6232-4c78-becf-955f6c76a05a",
   "metadata": {},
   "outputs": [
    {
     "name": "stdout",
     "output_type": "stream",
     "text": [
      "Random X = \n",
      " [[0.24582159 0.44261604 0.17108394 0.37525531 0.39157741]\n",
      " [0.47530117 0.67156349 0.06626828 0.13502334 0.58097196]\n",
      " [0.21252869 0.57576038 0.31998958 0.9050792  0.06791781]\n",
      " [0.01723196 0.70300627 0.37806888 0.73336535 0.9316884 ]\n",
      " [0.88153939 0.00619129 0.36276297 0.14432254 0.47134259]]\n",
      "\n",
      "Normalized X = \n",
      " [[-0.59807907  0.1159838  -0.86926241 -0.12843263 -0.06920835]\n",
      " [ 0.23458081  0.94671285 -1.24958293 -1.00010723  0.61800416]\n",
      " [-0.71888134  0.59909407 -0.32896269  1.7940177  -1.24359765]\n",
      " [-1.42750975  1.06080203 -0.11822366  1.17095907  1.89056838]\n",
      " [ 1.70860418 -1.46757052 -0.17376072 -0.96636533  0.22021724]]\n"
     ]
    }
   ],
   "source": [
    "import numpy as np \n",
    "\n",
    "X = np.random.rand(5,5)\n",
    "print('Random X = \\n', X)\n",
    "\n",
    "X_mean = X.mean()\n",
    "X_std = X.std()\n",
    "X_normalized = (X - X_mean) / X_std\n",
    "\n",
    "np.save('X_normalized.npy', X_normalized)\n",
    "\n",
    "print('\\nNormalized X = \\n', X_normalized)"
   ]
  },
  {
   "cell_type": "markdown",
   "id": "aa00e5c3-a0d1-4dbb-9bda-33ecabd0fade",
   "metadata": {},
   "source": [
    "# DIVISIBLE BY 3 PROBLEM:"
   ]
  },
  {
   "cell_type": "code",
   "execution_count": 8,
   "id": "0d4f301d-27dd-4ad0-b3d0-97e0fa1c5a58",
   "metadata": {},
   "outputs": [
    {
     "name": "stdout",
     "output_type": "stream",
     "text": [
      "Squares of 1 to 100 = \n",
      " [[    1     4     9    16    25    36    49    64    81   100]\n",
      " [  121   144   169   196   225   256   289   324   361   400]\n",
      " [  441   484   529   576   625   676   729   784   841   900]\n",
      " [  961  1024  1089  1156  1225  1296  1369  1444  1521  1600]\n",
      " [ 1681  1764  1849  1936  2025  2116  2209  2304  2401  2500]\n",
      " [ 2601  2704  2809  2916  3025  3136  3249  3364  3481  3600]\n",
      " [ 3721  3844  3969  4096  4225  4356  4489  4624  4761  4900]\n",
      " [ 5041  5184  5329  5476  5625  5776  5929  6084  6241  6400]\n",
      " [ 6561  6724  6889  7056  7225  7396  7569  7744  7921  8100]\n",
      " [ 8281  8464  8649  8836  9025  9216  9409  9604  9801 10000]]\n",
      "\n",
      "Divisible by 3 = \n",
      " [   9   36   81  144  225  324  441  576  729  900 1089 1296 1521 1764\n",
      " 2025 2304 2601 2916 3249 3600 3969 4356 4761 5184 5625 6084 6561 7056\n",
      " 7569 8100 8649 9216 9801]\n"
     ]
    }
   ],
   "source": [
    "squares = np.arange(1,101)**2\n",
    "squares = squares.reshape(10,10)\n",
    "\n",
    "print('Squares of 1 to 100 = \\n', A)\n",
    "\n",
    "div_by_3 = A[A%3 == 0]\n",
    "\n",
    "np.save('div_by_3.npy', div_by_3)\n",
    "\n",
    "print('\\nDivisible by 3 = \\n', div_by_3)"
   ]
  }
 ],
 "metadata": {
  "kernelspec": {
   "display_name": "Python 3 (ipykernel)",
   "language": "python",
   "name": "python3"
  },
  "language_info": {
   "codemirror_mode": {
    "name": "ipython",
    "version": 3
   },
   "file_extension": ".py",
   "mimetype": "text/x-python",
   "name": "python",
   "nbconvert_exporter": "python",
   "pygments_lexer": "ipython3",
   "version": "3.13.5"
  }
 },
 "nbformat": 4,
 "nbformat_minor": 5
}
