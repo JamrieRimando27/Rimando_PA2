{
 "cells": [
  {
   "cell_type": "markdown",
   "id": "c52b2e9a-58f3-4476-badf-19fb7ea0c3e1",
   "metadata": {},
   "source": [
    "# NORMALIZATION PROBLEM "
   ]
  },
  {
   "cell_type": "code",
   "execution_count": 1,
   "id": "2032a378-6232-4c78-becf-955f6c76a05a",
   "metadata": {},
   "outputs": [
    {
     "name": "stdout",
     "output_type": "stream",
     "text": [
      "Random X = \n",
      " [[0.72047248 0.76301327 0.63503249 0.20366651 0.51662868]\n",
      " [0.47903869 0.94632862 0.19805436 0.37048448 0.77732016]\n",
      " [0.82739072 0.21541867 0.23212586 0.55446696 0.90647601]\n",
      " [0.56399194 0.87322018 0.00103354 0.3898854  0.37759287]\n",
      " [0.45572228 0.75995618 0.922237   0.40487789 0.66291111]]\n",
      "\n",
      "Normalized X = \n",
      " [[ 0.65718998  0.82147253  0.32724075 -1.33859359 -0.13000701]\n",
      " [-0.27517076  1.52939348 -1.36026638 -0.69438165  0.87672241]\n",
      " [ 1.07008317 -1.2932095  -1.22869023  0.01611556  1.37549202]\n",
      " [ 0.05289879  1.24706579 -2.12111462 -0.61945987 -0.66693072]\n",
      " [-0.36521326  0.80966677  1.43635727 -0.56156239  0.43490147]]\n"
     ]
    }
   ],
   "source": [
    "import numpy as np \n",
    "\n",
    "X = np.random.rand(5,5)\n",
    "print('Random X = \\n', X)\n",
    "\n",
    "X_mean = X.mean()\n",
    "X_std = X.std()\n",
    "X_normalized = (X - X_mean) / X_std\n",
    "\n",
    "np.save('X_normalized.npy', X_normalized)\n",
    "\n",
    "print('\\nNormalized X = \\n', X_normalized)"
   ]
  },
  {
   "cell_type": "markdown",
   "id": "aa00e5c3-a0d1-4dbb-9bda-33ecabd0fade",
   "metadata": {},
   "source": [
    "# DIVISIBLE BY 3 PROBLEM:"
   ]
  },
  {
   "cell_type": "code",
   "execution_count": 18,
   "id": "0d4f301d-27dd-4ad0-b3d0-97e0fa1c5a58",
   "metadata": {},
   "outputs": [
    {
     "name": "stdout",
     "output_type": "stream",
     "text": [
      "[   9   36   81  144  225  324  441  576  729  900 1089 1296 1521 1764\n",
      " 2025 2304 2601 2916 3249 3600 3969 4356 4761 5184 5625 6084 6561 7056\n",
      " 7569 8100 8649 9216 9801]\n"
     ]
    }
   ],
   "source": [
    "squares = np.arange(1,101)**2\n",
    "A = squares.reshape(10,10)\n",
    "\n",
    "div_by_3 = A[A%3 == 0]\n",
    "\n",
    "np.save('div_by_3.npy', div_by_3)\n",
    "\n",
    "print(div_by_3)"
   ]
  }
 ],
 "metadata": {
  "kernelspec": {
   "display_name": "Python 3 (ipykernel)",
   "language": "python",
   "name": "python3"
  },
  "language_info": {
   "codemirror_mode": {
    "name": "ipython",
    "version": 3
   },
   "file_extension": ".py",
   "mimetype": "text/x-python",
   "name": "python",
   "nbconvert_exporter": "python",
   "pygments_lexer": "ipython3",
   "version": "3.13.5"
  }
 },
 "nbformat": 4,
 "nbformat_minor": 5
}
